{
 "cells": [
  {
   "cell_type": "code",
   "execution_count": 1,
   "metadata": {},
   "outputs": [],
   "source": [
    "import matplotlib.pyplot as plt\n",
    "import wandb\n",
    "# Import seaborn\n",
    "import seaborn as sns\n",
    "import pandas as pd\n",
    "# Apply the default theme\n",
    "sns.set_theme()"
   ]
  },
  {
   "cell_type": "code",
   "execution_count": 3,
   "metadata": {},
   "outputs": [],
   "source": [
    "project=\"diffusion_novel_reward\",\n",
    "entity=\"pgm-diffusion\""
   ]
  },
  {
   "cell_type": "code",
   "execution_count": 2,
   "metadata": {},
   "outputs": [],
   "source": [
    "api = wandb.Api()\n",
    "# runs = api.runs(f'{entity}/{project}')\n",
    "runs = api.runs('pgm-diffusion/diffusion_testing')"
   ]
  },
  {
   "cell_type": "code",
   "execution_count": 5,
   "metadata": {},
   "outputs": [
    {
     "data": {
      "text/plain": [
       "<Runs pgm-diffusion/('diffusion_novel_reward',)>"
      ]
     },
     "execution_count": 5,
     "metadata": {},
     "output_type": "execute_result"
    }
   ],
   "source": [
    "runs"
   ]
  },
  {
   "cell_type": "code",
   "execution_count": 13,
   "metadata": {},
   "outputs": [
    {
     "data": {
      "text/plain": [
       "'jakd9'"
      ]
     },
     "execution_count": 13,
     "metadata": {},
     "output_type": "execute_result"
    }
   ],
   "source": [
    "runs[0].user.username"
   ]
  },
  {
   "cell_type": "code",
   "execution_count": 18,
   "metadata": {},
   "outputs": [],
   "source": [
    "filtered_runs = []\n",
    "for run in runs:\n",
    "    # if run.config.get(\"env_name\") == 'walker2d-medium-v2':\n",
    "    if (run.user.username == 'daniellawson9999' and run.config.get('model_type') == 'dmpc') or (run.config.get(\"model_type\") == 'diffuser' and run.config.get(\"arch_type\") == \"DiffuserTransformer\"):\n",
    "        if run.config.get('n_episodes') == 5:\n",
    "            filtered_runs.append(run)"
   ]
  },
  {
   "cell_type": "code",
   "execution_count": 19,
   "metadata": {},
   "outputs": [
    {
     "data": {
      "text/plain": [
       "58"
      ]
     },
     "execution_count": 19,
     "metadata": {},
     "output_type": "execute_result"
    }
   ],
   "source": [
    "len(filtered_runs)"
   ]
  },
  {
   "cell_type": "code",
   "execution_count": 12,
   "metadata": {},
   "outputs": [
    {
     "data": {
      "text/plain": [
       "[<Run pgm-diffusion/diffusion_novel_reward/6k9m407y (finished)>,\n",
       " <Run pgm-diffusion/diffusion_novel_reward/zua6h87w (finished)>,\n",
       " <Run pgm-diffusion/diffusion_novel_reward/fzzqxj8e (finished)>,\n",
       " <Run pgm-diffusion/diffusion_novel_reward/0abwqhij (finished)>,\n",
       " <Run pgm-diffusion/diffusion_novel_reward/8mxsnz8j (finished)>,\n",
       " <Run pgm-diffusion/diffusion_novel_reward/i65nt1ks (finished)>,\n",
       " <Run pgm-diffusion/diffusion_novel_reward/o6kwpnno (finished)>,\n",
       " <Run pgm-diffusion/diffusion_novel_reward/s9trblfu (finished)>,\n",
       " <Run pgm-diffusion/diffusion_novel_reward/txrrtyl5 (finished)>,\n",
       " <Run pgm-diffusion/diffusion_novel_reward/e3mh1srk (finished)>,\n",
       " <Run pgm-diffusion/diffusion_novel_reward/18zschn7 (finished)>,\n",
       " <Run pgm-diffusion/diffusion_novel_reward/2tgvosz5 (finished)>,\n",
       " <Run pgm-diffusion/diffusion_novel_reward/65rfwxs1 (finished)>,\n",
       " <Run pgm-diffusion/diffusion_novel_reward/v87lzd1g (finished)>,\n",
       " <Run pgm-diffusion/diffusion_novel_reward/ha7ozva5 (finished)>,\n",
       " <Run pgm-diffusion/diffusion_novel_reward/upgsbzfv (finished)>,\n",
       " <Run pgm-diffusion/diffusion_novel_reward/yszu0uav (finished)>,\n",
       " <Run pgm-diffusion/diffusion_novel_reward/1m75mh06 (finished)>]"
      ]
     },
     "execution_count": 12,
     "metadata": {},
     "output_type": "execute_result"
    }
   ],
   "source": [
    "filtered_runs"
   ]
  },
  {
   "cell_type": "code",
   "execution_count": 93,
   "metadata": {},
   "outputs": [],
   "source": [
    "# summaries = []\n",
    "histories = []\n",
    "for run in filtered_runs:\n",
    "    avg_score = run.summary.get(\"avg_score\")\n",
    "    std_score = run.summary.get(\"std_score\")\n",
    "    env = run.config.get(\"env_name\", None)\n",
    "    if env is None:\n",
    "        env = run.config.get(\"env_id\")\n",
    "    batch_size = run.config.get(\"batch_size\")\n",
    "    model_type = run.config.get(\"model_type\")\n",
    "    if model_type == 'dmpc':\n",
    "        model_type = 'D-MPC(T)'\n",
    "    elif model_type == 'diffuser':\n",
    "        model_type = 'Diffuser(T)'\n",
    "    # score = run.history()['score']\n",
    "    hist = run.history(keys=['score'])\n",
    "\n",
    "    entry = {\n",
    "        \"avg_score\": avg_score,\n",
    "        \"std_score\": std_score,\n",
    "        \"env\": env,\n",
    "        \"batch_size\": batch_size,\n",
    "        \"model_type\": model_type,\n",
    "    }\n",
    "    # add entry values to hist\n",
    "    for key in entry.keys():\n",
    "        hist[key] = entry[key]\n",
    "    histories.append(hist)\n",
    "    # summaries.append(entry)\n",
    "# df = pd.DataFrame(summaries)\n",
    "df = pd.concat(histories, ignore_index=True)\n",
    "# filter for batch size > 1 and < 256\n",
    "df = df[df.batch_size > 1]\n",
    "df = df[df.batch_size < 256]"
   ]
  },
  {
   "cell_type": "code",
   "execution_count": 72,
   "metadata": {},
   "outputs": [
    {
     "data": {
      "text/html": [
       "<div>\n",
       "<style scoped>\n",
       "    .dataframe tbody tr th:only-of-type {\n",
       "        vertical-align: middle;\n",
       "    }\n",
       "\n",
       "    .dataframe tbody tr th {\n",
       "        vertical-align: top;\n",
       "    }\n",
       "\n",
       "    .dataframe thead th {\n",
       "        text-align: right;\n",
       "    }\n",
       "</style>\n",
       "<table border=\"1\" class=\"dataframe\">\n",
       "  <thead>\n",
       "    <tr style=\"text-align: right;\">\n",
       "      <th></th>\n",
       "      <th>avg_score</th>\n",
       "      <th>std_score</th>\n",
       "      <th>env</th>\n",
       "      <th>batch_size</th>\n",
       "      <th>model_type</th>\n",
       "    </tr>\n",
       "  </thead>\n",
       "  <tbody>\n",
       "    <tr>\n",
       "      <th>0</th>\n",
       "      <td>0.433277</td>\n",
       "      <td>0.007169</td>\n",
       "      <td>halfcheetah-medium-v2</td>\n",
       "      <td>2</td>\n",
       "      <td>Diffuser(T)</td>\n",
       "    </tr>\n",
       "    <tr>\n",
       "      <th>1</th>\n",
       "      <td>0.573716</td>\n",
       "      <td>0.083927</td>\n",
       "      <td>hopper-medium-v2</td>\n",
       "      <td>2</td>\n",
       "      <td>D-MPC(T)</td>\n",
       "    </tr>\n",
       "    <tr>\n",
       "      <th>2</th>\n",
       "      <td>0.444269</td>\n",
       "      <td>0.011307</td>\n",
       "      <td>halfcheetah-medium-v2</td>\n",
       "      <td>4</td>\n",
       "      <td>D-MPC(T)</td>\n",
       "    </tr>\n",
       "    <tr>\n",
       "      <th>3</th>\n",
       "      <td>0.577845</td>\n",
       "      <td>0.054325</td>\n",
       "      <td>hopper-medium-v2</td>\n",
       "      <td>4</td>\n",
       "      <td>D-MPC(T)</td>\n",
       "    </tr>\n",
       "    <tr>\n",
       "      <th>4</th>\n",
       "      <td>0.830016</td>\n",
       "      <td>0.009754</td>\n",
       "      <td>walker2d-medium-v2</td>\n",
       "      <td>4</td>\n",
       "      <td>D-MPC(T)</td>\n",
       "    </tr>\n",
       "    <tr>\n",
       "      <th>5</th>\n",
       "      <td>0.745727</td>\n",
       "      <td>0.079289</td>\n",
       "      <td>walker2d-medium-v2</td>\n",
       "      <td>2</td>\n",
       "      <td>D-MPC(T)</td>\n",
       "    </tr>\n",
       "    <tr>\n",
       "      <th>6</th>\n",
       "      <td>0.374436</td>\n",
       "      <td>0.115596</td>\n",
       "      <td>halfcheetah-medium-v2</td>\n",
       "      <td>2</td>\n",
       "      <td>D-MPC(T)</td>\n",
       "    </tr>\n",
       "    <tr>\n",
       "      <th>7</th>\n",
       "      <td>0.665848</td>\n",
       "      <td>0.103598</td>\n",
       "      <td>hopper-medium-v2</td>\n",
       "      <td>4</td>\n",
       "      <td>Diffuser(T)</td>\n",
       "    </tr>\n",
       "    <tr>\n",
       "      <th>8</th>\n",
       "      <td>0.721133</td>\n",
       "      <td>0.143878</td>\n",
       "      <td>walker2d-medium-v2</td>\n",
       "      <td>2</td>\n",
       "      <td>Diffuser(T)</td>\n",
       "    </tr>\n",
       "    <tr>\n",
       "      <th>9</th>\n",
       "      <td>0.594494</td>\n",
       "      <td>0.045671</td>\n",
       "      <td>hopper-medium-v2</td>\n",
       "      <td>2</td>\n",
       "      <td>Diffuser(T)</td>\n",
       "    </tr>\n",
       "    <tr>\n",
       "      <th>10</th>\n",
       "      <td>0.594494</td>\n",
       "      <td>0.045671</td>\n",
       "      <td>hopper-medium-v2</td>\n",
       "      <td>2</td>\n",
       "      <td>Diffuser(T)</td>\n",
       "    </tr>\n",
       "    <tr>\n",
       "      <th>11</th>\n",
       "      <td>0.596475</td>\n",
       "      <td>0.043144</td>\n",
       "      <td>hopper-medium-v2</td>\n",
       "      <td>2</td>\n",
       "      <td>Diffuser(T)</td>\n",
       "    </tr>\n",
       "    <tr>\n",
       "      <th>12</th>\n",
       "      <td>0.661572</td>\n",
       "      <td>0.100063</td>\n",
       "      <td>hopper-medium-v2</td>\n",
       "      <td>4</td>\n",
       "      <td>Diffuser(T)</td>\n",
       "    </tr>\n",
       "    <tr>\n",
       "      <th>13</th>\n",
       "      <td>0.734540</td>\n",
       "      <td>0.196607</td>\n",
       "      <td>hopper-medium-v2</td>\n",
       "      <td>8</td>\n",
       "      <td>Diffuser(T)</td>\n",
       "    </tr>\n",
       "    <tr>\n",
       "      <th>14</th>\n",
       "      <td>0.780821</td>\n",
       "      <td>0.103675</td>\n",
       "      <td>walker2d-medium-v2</td>\n",
       "      <td>8</td>\n",
       "      <td>Diffuser(T)</td>\n",
       "    </tr>\n",
       "    <tr>\n",
       "      <th>15</th>\n",
       "      <td>0.817318</td>\n",
       "      <td>0.009400</td>\n",
       "      <td>walker2d-medium-v2</td>\n",
       "      <td>4</td>\n",
       "      <td>Diffuser(T)</td>\n",
       "    </tr>\n",
       "    <tr>\n",
       "      <th>16</th>\n",
       "      <td>0.447877</td>\n",
       "      <td>0.006059</td>\n",
       "      <td>halfcheetah-medium-v2</td>\n",
       "      <td>8</td>\n",
       "      <td>Diffuser(T)</td>\n",
       "    </tr>\n",
       "    <tr>\n",
       "      <th>17</th>\n",
       "      <td>0.440599</td>\n",
       "      <td>0.009059</td>\n",
       "      <td>halfcheetah-medium-v2</td>\n",
       "      <td>4</td>\n",
       "      <td>Diffuser(T)</td>\n",
       "    </tr>\n",
       "    <tr>\n",
       "      <th>19</th>\n",
       "      <td>0.966176</td>\n",
       "      <td>0.031333</td>\n",
       "      <td>hopper-medium-v2</td>\n",
       "      <td>128</td>\n",
       "      <td>Diffuser(T)</td>\n",
       "    </tr>\n",
       "    <tr>\n",
       "      <th>23</th>\n",
       "      <td>0.781070</td>\n",
       "      <td>0.111184</td>\n",
       "      <td>hopper-medium-v2</td>\n",
       "      <td>32</td>\n",
       "      <td>Diffuser(T)</td>\n",
       "    </tr>\n",
       "    <tr>\n",
       "      <th>24</th>\n",
       "      <td>0.806804</td>\n",
       "      <td>0.185424</td>\n",
       "      <td>hopper-medium-v2</td>\n",
       "      <td>16</td>\n",
       "      <td>Diffuser(T)</td>\n",
       "    </tr>\n",
       "    <tr>\n",
       "      <th>27</th>\n",
       "      <td>0.823653</td>\n",
       "      <td>0.018143</td>\n",
       "      <td>walker2d-medium-v2</td>\n",
       "      <td>32</td>\n",
       "      <td>Diffuser(T)</td>\n",
       "    </tr>\n",
       "    <tr>\n",
       "      <th>28</th>\n",
       "      <td>0.809159</td>\n",
       "      <td>0.031865</td>\n",
       "      <td>walker2d-medium-v2</td>\n",
       "      <td>128</td>\n",
       "      <td>Diffuser(T)</td>\n",
       "    </tr>\n",
       "    <tr>\n",
       "      <th>29</th>\n",
       "      <td>0.819453</td>\n",
       "      <td>0.026463</td>\n",
       "      <td>walker2d-medium-v2</td>\n",
       "      <td>16</td>\n",
       "      <td>Diffuser(T)</td>\n",
       "    </tr>\n",
       "    <tr>\n",
       "      <th>30</th>\n",
       "      <td>0.458385</td>\n",
       "      <td>0.010297</td>\n",
       "      <td>halfcheetah-medium-v2</td>\n",
       "      <td>16</td>\n",
       "      <td>Diffuser(T)</td>\n",
       "    </tr>\n",
       "    <tr>\n",
       "      <th>31</th>\n",
       "      <td>0.462939</td>\n",
       "      <td>0.008475</td>\n",
       "      <td>halfcheetah-medium-v2</td>\n",
       "      <td>128</td>\n",
       "      <td>Diffuser(T)</td>\n",
       "    </tr>\n",
       "    <tr>\n",
       "      <th>32</th>\n",
       "      <td>0.452113</td>\n",
       "      <td>0.008369</td>\n",
       "      <td>halfcheetah-medium-v2</td>\n",
       "      <td>32</td>\n",
       "      <td>Diffuser(T)</td>\n",
       "    </tr>\n",
       "    <tr>\n",
       "      <th>33</th>\n",
       "      <td>0.848541</td>\n",
       "      <td>0.188432</td>\n",
       "      <td>hopper-medium-v2</td>\n",
       "      <td>64</td>\n",
       "      <td>Diffuser(T)</td>\n",
       "    </tr>\n",
       "    <tr>\n",
       "      <th>38</th>\n",
       "      <td>0.455849</td>\n",
       "      <td>0.008076</td>\n",
       "      <td>halfcheetah-medium-v2</td>\n",
       "      <td>128</td>\n",
       "      <td>D-MPC(T)</td>\n",
       "    </tr>\n",
       "    <tr>\n",
       "      <th>39</th>\n",
       "      <td>0.442378</td>\n",
       "      <td>0.005252</td>\n",
       "      <td>halfcheetah-medium-v2</td>\n",
       "      <td>8</td>\n",
       "      <td>D-MPC(T)</td>\n",
       "    </tr>\n",
       "    <tr>\n",
       "      <th>40</th>\n",
       "      <td>0.873601</td>\n",
       "      <td>0.107632</td>\n",
       "      <td>hopper-medium-v2</td>\n",
       "      <td>128</td>\n",
       "      <td>D-MPC(T)</td>\n",
       "    </tr>\n",
       "    <tr>\n",
       "      <th>41</th>\n",
       "      <td>0.804821</td>\n",
       "      <td>0.015069</td>\n",
       "      <td>walker2d-medium-v2</td>\n",
       "      <td>128</td>\n",
       "      <td>D-MPC(T)</td>\n",
       "    </tr>\n",
       "    <tr>\n",
       "      <th>42</th>\n",
       "      <td>0.623985</td>\n",
       "      <td>0.113300</td>\n",
       "      <td>hopper-medium-v2</td>\n",
       "      <td>8</td>\n",
       "      <td>D-MPC(T)</td>\n",
       "    </tr>\n",
       "    <tr>\n",
       "      <th>43</th>\n",
       "      <td>0.746200</td>\n",
       "      <td>0.122235</td>\n",
       "      <td>walker2d-medium-v2</td>\n",
       "      <td>8</td>\n",
       "      <td>D-MPC(T)</td>\n",
       "    </tr>\n",
       "    <tr>\n",
       "      <th>44</th>\n",
       "      <td>0.809439</td>\n",
       "      <td>0.019915</td>\n",
       "      <td>walker2d-medium-v2</td>\n",
       "      <td>16</td>\n",
       "      <td>D-MPC(T)</td>\n",
       "    </tr>\n",
       "    <tr>\n",
       "      <th>45</th>\n",
       "      <td>0.444387</td>\n",
       "      <td>0.004026</td>\n",
       "      <td>halfcheetah-medium-v2</td>\n",
       "      <td>16</td>\n",
       "      <td>D-MPC(T)</td>\n",
       "    </tr>\n",
       "    <tr>\n",
       "      <th>46</th>\n",
       "      <td>0.753680</td>\n",
       "      <td>0.166206</td>\n",
       "      <td>hopper-medium-v2</td>\n",
       "      <td>16</td>\n",
       "      <td>D-MPC(T)</td>\n",
       "    </tr>\n",
       "    <tr>\n",
       "      <th>47</th>\n",
       "      <td>0.824936</td>\n",
       "      <td>0.023948</td>\n",
       "      <td>walker2d-medium-v2</td>\n",
       "      <td>32</td>\n",
       "      <td>D-MPC(T)</td>\n",
       "    </tr>\n",
       "    <tr>\n",
       "      <th>48</th>\n",
       "      <td>0.449246</td>\n",
       "      <td>0.009890</td>\n",
       "      <td>halfcheetah-medium-v2</td>\n",
       "      <td>32</td>\n",
       "      <td>D-MPC(T)</td>\n",
       "    </tr>\n",
       "    <tr>\n",
       "      <th>49</th>\n",
       "      <td>0.758868</td>\n",
       "      <td>0.036615</td>\n",
       "      <td>hopper-medium-v2</td>\n",
       "      <td>32</td>\n",
       "      <td>D-MPC(T)</td>\n",
       "    </tr>\n",
       "    <tr>\n",
       "      <th>50</th>\n",
       "      <td>NaN</td>\n",
       "      <td>NaN</td>\n",
       "      <td>walker2d-medium-v2</td>\n",
       "      <td>32</td>\n",
       "      <td>D-MPC(T)</td>\n",
       "    </tr>\n",
       "    <tr>\n",
       "      <th>51</th>\n",
       "      <td>0.758868</td>\n",
       "      <td>0.036615</td>\n",
       "      <td>hopper-medium-v2</td>\n",
       "      <td>32</td>\n",
       "      <td>D-MPC(T)</td>\n",
       "    </tr>\n",
       "    <tr>\n",
       "      <th>52</th>\n",
       "      <td>0.813644</td>\n",
       "      <td>0.166352</td>\n",
       "      <td>hopper-medium-v2</td>\n",
       "      <td>64</td>\n",
       "      <td>Diffuser(T)</td>\n",
       "    </tr>\n",
       "    <tr>\n",
       "      <th>53</th>\n",
       "      <td>0.820340</td>\n",
       "      <td>0.015441</td>\n",
       "      <td>walker2d-medium-v2</td>\n",
       "      <td>64</td>\n",
       "      <td>Diffuser(T)</td>\n",
       "    </tr>\n",
       "    <tr>\n",
       "      <th>54</th>\n",
       "      <td>0.456827</td>\n",
       "      <td>0.005035</td>\n",
       "      <td>halfcheetah-medium-v2</td>\n",
       "      <td>64</td>\n",
       "      <td>Diffuser(T)</td>\n",
       "    </tr>\n",
       "    <tr>\n",
       "      <th>55</th>\n",
       "      <td>0.717140</td>\n",
       "      <td>0.179626</td>\n",
       "      <td>walker2d-medium-v2</td>\n",
       "      <td>64</td>\n",
       "      <td>D-MPC(T)</td>\n",
       "    </tr>\n",
       "    <tr>\n",
       "      <th>56</th>\n",
       "      <td>0.457407</td>\n",
       "      <td>0.007752</td>\n",
       "      <td>halfcheetah-medium-v2</td>\n",
       "      <td>64</td>\n",
       "      <td>D-MPC(T)</td>\n",
       "    </tr>\n",
       "    <tr>\n",
       "      <th>57</th>\n",
       "      <td>0.734347</td>\n",
       "      <td>0.112286</td>\n",
       "      <td>hopper-medium-v2</td>\n",
       "      <td>64</td>\n",
       "      <td>D-MPC(T)</td>\n",
       "    </tr>\n",
       "  </tbody>\n",
       "</table>\n",
       "</div>"
      ],
      "text/plain": [
       "    avg_score  std_score                    env  batch_size   model_type\n",
       "0    0.433277   0.007169  halfcheetah-medium-v2           2  Diffuser(T)\n",
       "1    0.573716   0.083927       hopper-medium-v2           2     D-MPC(T)\n",
       "2    0.444269   0.011307  halfcheetah-medium-v2           4     D-MPC(T)\n",
       "3    0.577845   0.054325       hopper-medium-v2           4     D-MPC(T)\n",
       "4    0.830016   0.009754     walker2d-medium-v2           4     D-MPC(T)\n",
       "5    0.745727   0.079289     walker2d-medium-v2           2     D-MPC(T)\n",
       "6    0.374436   0.115596  halfcheetah-medium-v2           2     D-MPC(T)\n",
       "7    0.665848   0.103598       hopper-medium-v2           4  Diffuser(T)\n",
       "8    0.721133   0.143878     walker2d-medium-v2           2  Diffuser(T)\n",
       "9    0.594494   0.045671       hopper-medium-v2           2  Diffuser(T)\n",
       "10   0.594494   0.045671       hopper-medium-v2           2  Diffuser(T)\n",
       "11   0.596475   0.043144       hopper-medium-v2           2  Diffuser(T)\n",
       "12   0.661572   0.100063       hopper-medium-v2           4  Diffuser(T)\n",
       "13   0.734540   0.196607       hopper-medium-v2           8  Diffuser(T)\n",
       "14   0.780821   0.103675     walker2d-medium-v2           8  Diffuser(T)\n",
       "15   0.817318   0.009400     walker2d-medium-v2           4  Diffuser(T)\n",
       "16   0.447877   0.006059  halfcheetah-medium-v2           8  Diffuser(T)\n",
       "17   0.440599   0.009059  halfcheetah-medium-v2           4  Diffuser(T)\n",
       "19   0.966176   0.031333       hopper-medium-v2         128  Diffuser(T)\n",
       "23   0.781070   0.111184       hopper-medium-v2          32  Diffuser(T)\n",
       "24   0.806804   0.185424       hopper-medium-v2          16  Diffuser(T)\n",
       "27   0.823653   0.018143     walker2d-medium-v2          32  Diffuser(T)\n",
       "28   0.809159   0.031865     walker2d-medium-v2         128  Diffuser(T)\n",
       "29   0.819453   0.026463     walker2d-medium-v2          16  Diffuser(T)\n",
       "30   0.458385   0.010297  halfcheetah-medium-v2          16  Diffuser(T)\n",
       "31   0.462939   0.008475  halfcheetah-medium-v2         128  Diffuser(T)\n",
       "32   0.452113   0.008369  halfcheetah-medium-v2          32  Diffuser(T)\n",
       "33   0.848541   0.188432       hopper-medium-v2          64  Diffuser(T)\n",
       "38   0.455849   0.008076  halfcheetah-medium-v2         128     D-MPC(T)\n",
       "39   0.442378   0.005252  halfcheetah-medium-v2           8     D-MPC(T)\n",
       "40   0.873601   0.107632       hopper-medium-v2         128     D-MPC(T)\n",
       "41   0.804821   0.015069     walker2d-medium-v2         128     D-MPC(T)\n",
       "42   0.623985   0.113300       hopper-medium-v2           8     D-MPC(T)\n",
       "43   0.746200   0.122235     walker2d-medium-v2           8     D-MPC(T)\n",
       "44   0.809439   0.019915     walker2d-medium-v2          16     D-MPC(T)\n",
       "45   0.444387   0.004026  halfcheetah-medium-v2          16     D-MPC(T)\n",
       "46   0.753680   0.166206       hopper-medium-v2          16     D-MPC(T)\n",
       "47   0.824936   0.023948     walker2d-medium-v2          32     D-MPC(T)\n",
       "48   0.449246   0.009890  halfcheetah-medium-v2          32     D-MPC(T)\n",
       "49   0.758868   0.036615       hopper-medium-v2          32     D-MPC(T)\n",
       "50        NaN        NaN     walker2d-medium-v2          32     D-MPC(T)\n",
       "51   0.758868   0.036615       hopper-medium-v2          32     D-MPC(T)\n",
       "52   0.813644   0.166352       hopper-medium-v2          64  Diffuser(T)\n",
       "53   0.820340   0.015441     walker2d-medium-v2          64  Diffuser(T)\n",
       "54   0.456827   0.005035  halfcheetah-medium-v2          64  Diffuser(T)\n",
       "55   0.717140   0.179626     walker2d-medium-v2          64     D-MPC(T)\n",
       "56   0.457407   0.007752  halfcheetah-medium-v2          64     D-MPC(T)\n",
       "57   0.734347   0.112286       hopper-medium-v2          64     D-MPC(T)"
      ]
     },
     "execution_count": 72,
     "metadata": {},
     "output_type": "execute_result"
    }
   ],
   "source": [
    "df"
   ]
  },
  {
   "cell_type": "code",
   "execution_count": 68,
   "metadata": {},
   "outputs": [],
   "source": [
    "title_map = {\n",
    "    'walker2d-medium-v2': 'Walker2d-Medium',\n",
    "    'hopper-medium-v2': 'Hopper-Medium',\n",
    "    'halfcheetah-medium-v2': 'HalfCheetah-Medium'\n",
    "}"
   ]
  },
  {
   "cell_type": "code",
   "execution_count": 51,
   "metadata": {},
   "outputs": [
    {
     "data": {
      "text/html": [
       "<div>\n",
       "<style scoped>\n",
       "    .dataframe tbody tr th:only-of-type {\n",
       "        vertical-align: middle;\n",
       "    }\n",
       "\n",
       "    .dataframe tbody tr th {\n",
       "        vertical-align: top;\n",
       "    }\n",
       "\n",
       "    .dataframe thead th {\n",
       "        text-align: right;\n",
       "    }\n",
       "</style>\n",
       "<table border=\"1\" class=\"dataframe\">\n",
       "  <thead>\n",
       "    <tr style=\"text-align: right;\">\n",
       "      <th></th>\n",
       "      <th>avg_score</th>\n",
       "      <th>std_score</th>\n",
       "      <th>env</th>\n",
       "      <th>batch_size</th>\n",
       "      <th>model_type</th>\n",
       "    </tr>\n",
       "  </thead>\n",
       "  <tbody>\n",
       "    <tr>\n",
       "      <th>0</th>\n",
       "      <td>0.433277</td>\n",
       "      <td>0.007169</td>\n",
       "      <td>halfcheetah-medium-v2</td>\n",
       "      <td>2</td>\n",
       "      <td>diffuser</td>\n",
       "    </tr>\n",
       "    <tr>\n",
       "      <th>1</th>\n",
       "      <td>0.573716</td>\n",
       "      <td>0.083927</td>\n",
       "      <td>hopper-medium-v2</td>\n",
       "      <td>2</td>\n",
       "      <td>dmpc</td>\n",
       "    </tr>\n",
       "    <tr>\n",
       "      <th>2</th>\n",
       "      <td>0.444269</td>\n",
       "      <td>0.011307</td>\n",
       "      <td>halfcheetah-medium-v2</td>\n",
       "      <td>4</td>\n",
       "      <td>dmpc</td>\n",
       "    </tr>\n",
       "    <tr>\n",
       "      <th>3</th>\n",
       "      <td>0.577845</td>\n",
       "      <td>0.054325</td>\n",
       "      <td>hopper-medium-v2</td>\n",
       "      <td>4</td>\n",
       "      <td>dmpc</td>\n",
       "    </tr>\n",
       "    <tr>\n",
       "      <th>4</th>\n",
       "      <td>0.830016</td>\n",
       "      <td>0.009754</td>\n",
       "      <td>walker2d-medium-v2</td>\n",
       "      <td>4</td>\n",
       "      <td>dmpc</td>\n",
       "    </tr>\n",
       "  </tbody>\n",
       "</table>\n",
       "</div>"
      ],
      "text/plain": [
       "   avg_score  std_score                    env  batch_size model_type\n",
       "0   0.433277   0.007169  halfcheetah-medium-v2           2   diffuser\n",
       "1   0.573716   0.083927       hopper-medium-v2           2       dmpc\n",
       "2   0.444269   0.011307  halfcheetah-medium-v2           4       dmpc\n",
       "3   0.577845   0.054325       hopper-medium-v2           4       dmpc\n",
       "4   0.830016   0.009754     walker2d-medium-v2           4       dmpc"
      ]
     },
     "execution_count": 51,
     "metadata": {},
     "output_type": "execute_result"
    }
   ],
   "source": [
    "df.head()"
   ]
  },
  {
   "cell_type": "code",
   "execution_count": 29,
   "metadata": {},
   "outputs": [
    {
     "data": {
      "text/plain": [
       "array([  2,   4,   8,   1, 128, 256,  32,  16,  64])"
      ]
     },
     "execution_count": 29,
     "metadata": {},
     "output_type": "execute_result"
    }
   ],
   "source": [
    "df.batch_size.unique()"
   ]
  },
  {
   "cell_type": "code",
   "execution_count": 30,
   "metadata": {},
   "outputs": [
    {
     "data": {
      "text/plain": [
       "array(['halfcheetah-medium-v2', 'hopper-medium-v2', 'walker2d-medium-v2'],\n",
       "      dtype=object)"
      ]
     },
     "execution_count": 30,
     "metadata": {},
     "output_type": "execute_result"
    }
   ],
   "source": [
    "df.env.unique()"
   ]
  },
  {
   "cell_type": "code",
   "execution_count": 31,
   "metadata": {},
   "outputs": [],
   "source": [
    "sns.set_style('whitegrid')\n",
    "sns.set_style(\"whitegrid\", {\n",
    "    'axes.edgecolor': 'black',\n",
    "    'axes.linewidth': 1.5\n",
    "})\n"
   ]
  },
  {
   "cell_type": "code",
   "execution_count": 32,
   "metadata": {},
   "outputs": [
    {
     "data": {
      "text/html": [
       "<svg  width=\"550\" height=\"55\"><rect x=\"0\" y=\"0\" width=\"55\" height=\"55\" style=\"fill:#4c72b0;stroke-width:2;stroke:rgb(255,255,255)\"/><rect x=\"55\" y=\"0\" width=\"55\" height=\"55\" style=\"fill:#dd8452;stroke-width:2;stroke:rgb(255,255,255)\"/><rect x=\"110\" y=\"0\" width=\"55\" height=\"55\" style=\"fill:#55a868;stroke-width:2;stroke:rgb(255,255,255)\"/><rect x=\"165\" y=\"0\" width=\"55\" height=\"55\" style=\"fill:#c44e52;stroke-width:2;stroke:rgb(255,255,255)\"/><rect x=\"220\" y=\"0\" width=\"55\" height=\"55\" style=\"fill:#8172b3;stroke-width:2;stroke:rgb(255,255,255)\"/><rect x=\"275\" y=\"0\" width=\"55\" height=\"55\" style=\"fill:#937860;stroke-width:2;stroke:rgb(255,255,255)\"/><rect x=\"330\" y=\"0\" width=\"55\" height=\"55\" style=\"fill:#da8bc3;stroke-width:2;stroke:rgb(255,255,255)\"/><rect x=\"385\" y=\"0\" width=\"55\" height=\"55\" style=\"fill:#8c8c8c;stroke-width:2;stroke:rgb(255,255,255)\"/><rect x=\"440\" y=\"0\" width=\"55\" height=\"55\" style=\"fill:#ccb974;stroke-width:2;stroke:rgb(255,255,255)\"/><rect x=\"495\" y=\"0\" width=\"55\" height=\"55\" style=\"fill:#64b5cd;stroke-width:2;stroke:rgb(255,255,255)\"/></svg>"
      ],
      "text/plain": [
       "[(0.2980392156862745, 0.4470588235294118, 0.6901960784313725),\n",
       " (0.8666666666666667, 0.5176470588235295, 0.3215686274509804),\n",
       " (0.3333333333333333, 0.6588235294117647, 0.40784313725490196),\n",
       " (0.7686274509803922, 0.3058823529411765, 0.3215686274509804),\n",
       " (0.5058823529411764, 0.4470588235294118, 0.7019607843137254),\n",
       " (0.5764705882352941, 0.47058823529411764, 0.3764705882352941),\n",
       " (0.8549019607843137, 0.5450980392156862, 0.7647058823529411),\n",
       " (0.5490196078431373, 0.5490196078431373, 0.5490196078431373),\n",
       " (0.8, 0.7254901960784313, 0.4549019607843137),\n",
       " (0.39215686274509803, 0.7098039215686275, 0.803921568627451)]"
      ]
     },
     "execution_count": 32,
     "metadata": {},
     "output_type": "execute_result"
    }
   ],
   "source": [
    "palette  = sns.color_palette()\n",
    "palette"
   ]
  },
  {
   "cell_type": "code",
   "execution_count": 33,
   "metadata": {},
   "outputs": [
    {
     "data": {
      "text/plain": [
       "[6.4, 4.8]"
      ]
     },
     "execution_count": 33,
     "metadata": {},
     "output_type": "execute_result"
    }
   ],
   "source": [
    "plt.rcParams['figure.figsize']\n",
    "[6.4, 4.8]\n"
   ]
  },
  {
   "cell_type": "code",
   "execution_count": 38,
   "metadata": {},
   "outputs": [
    {
     "data": {
      "text/plain": [
       "(6.4, 4.8)"
      ]
     },
     "execution_count": 38,
     "metadata": {},
     "output_type": "execute_result"
    }
   ],
   "source": [
    "ratio = 1.0\n",
    "figuresize = (plt.rcParams['figure.figsize'][0] * ratio, plt.rcParams['figure.figsize'][1] * ratio)\n",
    "figuresize"
   ]
  },
  {
   "cell_type": "code",
   "execution_count": 35,
   "metadata": {},
   "outputs": [],
   "source": [
    "display_labels = False"
   ]
  },
  {
   "cell_type": "code",
   "execution_count": 79,
   "metadata": {},
   "outputs": [],
   "source": [
    "model_types = df.model_type.unique()"
   ]
  },
  {
   "cell_type": "code",
   "execution_count": 95,
   "metadata": {},
   "outputs": [
    {
     "name": "stderr",
     "output_type": "stream",
     "text": [
      "/tmp/ipykernel_1944/4006869575.py:7: SettingWithCopyWarning: \n",
      "A value is trying to be set on a copy of a slice from a DataFrame.\n",
      "Try using .loc[row_indexer,col_indexer] = value instead\n",
      "\n",
      "See the caveats in the documentation: https://pandas.pydata.org/pandas-docs/stable/user_guide/indexing.html#returning-a-view-versus-a-copy\n",
      "  df_env.loc[:, 'score'] = df_env['score'] * 100\n",
      "/tmp/ipykernel_1944/4006869575.py:8: SettingWithCopyWarning: \n",
      "A value is trying to be set on a copy of a slice from a DataFrame.\n",
      "Try using .loc[row_indexer,col_indexer] = value instead\n",
      "\n",
      "See the caveats in the documentation: https://pandas.pydata.org/pandas-docs/stable/user_guide/indexing.html#returning-a-view-versus-a-copy\n",
      "  df_env.loc[:, 'avg_score'] = df_env['avg_score'] * 100\n",
      "/tmp/ipykernel_1944/4006869575.py:9: SettingWithCopyWarning: \n",
      "A value is trying to be set on a copy of a slice from a DataFrame.\n",
      "Try using .loc[row_indexer,col_indexer] = value instead\n",
      "\n",
      "See the caveats in the documentation: https://pandas.pydata.org/pandas-docs/stable/user_guide/indexing.html#returning-a-view-versus-a-copy\n",
      "  df_env.loc[:, 'std_score'] = df_env['std_score'] * 100\n",
      "/tmp/ipykernel_1944/4006869575.py:12: UserWarning: The palette list has more values (10) than needed (2), which may not be intended.\n",
      "  sns.lineplot(data=df_env, x='batch_size', y='score',\n"
     ]
    },
    {
     "data": {
      "image/png": "[encoded data removed]",
      "text/plain": [
       "<Figure size 640x480 with 1 Axes>"
      ]
     },
     "metadata": {},
     "output_type": "display_data"
    }
   ],
   "source": [
    "def plot(env_name, df, figuresize, palette, display_labels):\n",
    "    # filter for env hopper-medium-v2\n",
    "    df_env = df[df.env == env_name]\n",
    "    # scale score by 100\n",
    "    # df_hopper['avg_score'] = df_hopper['avg_score'] * 100\n",
    "    # use loc\n",
    "    df_env.loc[:, 'score'] = df_env['score'] * 100\n",
    "    df_env.loc[:, 'avg_score'] = df_env['avg_score'] * 100\n",
    "    df_env.loc[:, 'std_score'] = df_env['std_score'] * 100\n",
    "\n",
    "    plt.figure (figsize=figuresize)\n",
    "    sns.lineplot(data=df_env, x='batch_size', y='score', \n",
    "                 hue='model_type', \n",
    "                 palette=palette,\n",
    "                 hue_order=model_types)\n",
    "    # want x axis to be powers of 2, \n",
    "    plt.xscale('log', base=2)\n",
    "    plt.ylabel('score')\n",
    "    plt.xlabel('planning samples')\n",
    "    plt.title(title_map[env_name])\n",
    "    plt.legend(title='')\n",
    "    # but want to show like 2, 4, 8, 16, 32, 64, 128, 256\n",
    "    # plt.xticks([2, 4, 8, 16, 32, 64, 128])\n",
    "    # Loop through each model type to add error bars\n",
    "    # for model in df_env['model_type'].unique():\n",
    "    #     subset = df_env[df_env['model_type'] == model]\n",
    "    #     plt.errorbar(\n",
    "    #         x=subset['batch_size'],\n",
    "    #         y=subset['avg_score'],\n",
    "    #         yerr=subset['std_score'],\n",
    "    #         fmt='none',        # no line from errorbar, just the error caps\n",
    "    #         ecolor='gray',     # errorbar color\n",
    "    #         elinewidth=1,\n",
    "    #         capsize=3,\n",
    "    #         alpha=0.7\n",
    "    #     )\n",
    "\n",
    "plot('hopper-medium-v2', df, figuresize, palette, display_labels)"
   ]
  },
  {
   "cell_type": "code",
   "execution_count": 96,
   "metadata": {},
   "outputs": [
    {
     "name": "stderr",
     "output_type": "stream",
     "text": [
      "/tmp/ipykernel_1944/4006869575.py:7: SettingWithCopyWarning: \n",
      "A value is trying to be set on a copy of a slice from a DataFrame.\n",
      "Try using .loc[row_indexer,col_indexer] = value instead\n",
      "\n",
      "See the caveats in the documentation: https://pandas.pydata.org/pandas-docs/stable/user_guide/indexing.html#returning-a-view-versus-a-copy\n",
      "  df_env.loc[:, 'score'] = df_env['score'] * 100\n",
      "/tmp/ipykernel_1944/4006869575.py:8: SettingWithCopyWarning: \n",
      "A value is trying to be set on a copy of a slice from a DataFrame.\n",
      "Try using .loc[row_indexer,col_indexer] = value instead\n",
      "\n",
      "See the caveats in the documentation: https://pandas.pydata.org/pandas-docs/stable/user_guide/indexing.html#returning-a-view-versus-a-copy\n",
      "  df_env.loc[:, 'avg_score'] = df_env['avg_score'] * 100\n",
      "/tmp/ipykernel_1944/4006869575.py:9: SettingWithCopyWarning: \n",
      "A value is trying to be set on a copy of a slice from a DataFrame.\n",
      "Try using .loc[row_indexer,col_indexer] = value instead\n",
      "\n",
      "See the caveats in the documentation: https://pandas.pydata.org/pandas-docs/stable/user_guide/indexing.html#returning-a-view-versus-a-copy\n",
      "  df_env.loc[:, 'std_score'] = df_env['std_score'] * 100\n",
      "/tmp/ipykernel_1944/4006869575.py:12: UserWarning: The palette list has more values (10) than needed (2), which may not be intended.\n",
      "  sns.lineplot(data=df_env, x='batch_size', y='score',\n"
     ]
    },
    {
     "data": {
      "image/png": "[encoded data removed]",
      "text/plain": [
       "<Figure size 640x480 with 1 Axes>"
      ]
     },
     "metadata": {},
     "output_type": "display_data"
    }
   ],
   "source": [
    "plot('walker2d-medium-v2', df, figuresize, palette, display_labels)"
   ]
  },
  {
   "cell_type": "code",
   "execution_count": 97,
   "metadata": {},
   "outputs": [
    {
     "name": "stderr",
     "output_type": "stream",
     "text": [
      "/tmp/ipykernel_1944/4006869575.py:7: SettingWithCopyWarning: \n",
      "A value is trying to be set on a copy of a slice from a DataFrame.\n",
      "Try using .loc[row_indexer,col_indexer] = value instead\n",
      "\n",
      "See the caveats in the documentation: https://pandas.pydata.org/pandas-docs/stable/user_guide/indexing.html#returning-a-view-versus-a-copy\n",
      "  df_env.loc[:, 'score'] = df_env['score'] * 100\n",
      "/tmp/ipykernel_1944/4006869575.py:8: SettingWithCopyWarning: \n",
      "A value is trying to be set on a copy of a slice from a DataFrame.\n",
      "Try using .loc[row_indexer,col_indexer] = value instead\n",
      "\n",
      "See the caveats in the documentation: https://pandas.pydata.org/pandas-docs/stable/user_guide/indexing.html#returning-a-view-versus-a-copy\n",
      "  df_env.loc[:, 'avg_score'] = df_env['avg_score'] * 100\n",
      "/tmp/ipykernel_1944/4006869575.py:9: SettingWithCopyWarning: \n",
      "A value is trying to be set on a copy of a slice from a DataFrame.\n",
      "Try using .loc[row_indexer,col_indexer] = value instead\n",
      "\n",
      "See the caveats in the documentation: https://pandas.pydata.org/pandas-docs/stable/user_guide/indexing.html#returning-a-view-versus-a-copy\n",
      "  df_env.loc[:, 'std_score'] = df_env['std_score'] * 100\n",
      "/tmp/ipykernel_1944/4006869575.py:12: UserWarning: The palette list has more values (10) than needed (2), which may not be intended.\n",
      "  sns.lineplot(data=df_env, x='batch_size', y='score',\n"
     ]
    },
    {
     "data": {
      "image/png": "[encoded data removed]",
      "text/plain": [
       "<Figure size 640x480 with 1 Axes>"
      ]
     },
     "metadata": {},
     "output_type": "display_data"
    }
   ],
   "source": [
    "plot('halfcheetah-medium-v2', df, figuresize, palette, display_labels)"
   ]
  }
 ],
 "metadata": {
  "kernelspec": {
   "display_name": "merge",
   "language": "python",
   "name": "python3"
  },
  "language_info": {
   "codemirror_mode": {
    "name": "ipython",
    "version": 3
   },
   "file_extension": ".py",
   "mimetype": "text/x-python",
   "name": "python",
   "nbconvert_exporter": "python",
   "pygments_lexer": "ipython3",
   "version": "3.9.13"
  },
  "orig_nbformat": 4
 },
 "nbformat": 4,
 "nbformat_minor": 2
}
