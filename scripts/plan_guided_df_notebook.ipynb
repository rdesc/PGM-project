{
 "cells": [
  {
   "cell_type": "code",
   "execution_count": 5,
   "metadata": {},
   "outputs": [
    {
     "name": "stdout",
     "output_type": "stream",
     "text": [
      "Updated LD_LIBRARY_PATH: :/home/mila/f/faisal.mohamed/.mujoco/mujoco210/bin:/home/mila/f/faisal.mohamed/.mujoco/mujoco200/bin\n"
     ]
    }
   ],
   "source": [
    "\n",
    "# !export LD_LIBRARY_PATH=$LD_LIBRARY_PATH:/home/mila/f/faisal.mohamed/.mujoco/mujoco200/bin\n",
    "import os\n",
    "\n",
    "# Get the current value of LD_LIBRARY_PATH, if it exists\n",
    "current_ld_library_path = os.environ.get(\"LD_LIBRARY_PATH\", \"\")\n",
    "\n",
    "# Add the new path to it\n",
    "new_path = \"/home/mila/f/faisal.mohamed/.mujoco/mujoco200/bin\"\n",
    "if current_ld_library_path:\n",
    "    updated_ld_library_path = f\"{current_ld_library_path}:{new_path}\"\n",
    "else:\n",
    "    updated_ld_library_path = new_path\n",
    "\n",
    "# Update the LD_LIBRARY_PATH in the environment\n",
    "os.environ[\"LD_LIBRARY_PATH\"] = updated_ld_library_path\n",
    "\n",
    "# Print to verify\n",
    "print(\"Updated LD_LIBRARY_PATH:\", os.environ[\"LD_LIBRARY_PATH\"])\n"
   ]
  },
  {
   "cell_type": "code",
   "execution_count": 6,
   "metadata": {},
   "outputs": [
    {
     "name": "stdout",
     "output_type": "stream",
     "text": [
      "Import error. Trying to rebuild mujoco_py.\n",
      "running build_ext\n",
      "building 'mujoco_py.cymj' extension\n",
      "creating /home/mila/f/faisal.mohamed/.conda/envs/diffuser/lib/python3.8/site-packages/mujoco_py/generated/_pyxbld_2.0.2.5_38_linuxcpuextensionbuilder\n",
      "creating /home/mila/f/faisal.mohamed/.conda/envs/diffuser/lib/python3.8/site-packages/mujoco_py/generated/_pyxbld_2.0.2.5_38_linuxcpuextensionbuilder/temp.linux-x86_64-cpython-38\n",
      "creating /home/mila/f/faisal.mohamed/.conda/envs/diffuser/lib/python3.8/site-packages/mujoco_py/generated/_pyxbld_2.0.2.5_38_linuxcpuextensionbuilder/temp.linux-x86_64-cpython-38/home\n",
      "creating /home/mila/f/faisal.mohamed/.conda/envs/diffuser/lib/python3.8/site-packages/mujoco_py/generated/_pyxbld_2.0.2.5_38_linuxcpuextensionbuilder/temp.linux-x86_64-cpython-38/home/mila\n",
      "creating /home/mila/f/faisal.mohamed/.conda/envs/diffuser/lib/python3.8/site-packages/mujoco_py/generated/_pyxbld_2.0.2.5_38_linuxcpuextensionbuilder/temp.linux-x86_64-cpython-38/home/mila/f\n",
      "creating /home/mila/f/faisal.mohamed/.conda/envs/diffuser/lib/python3.8/site-packages/mujoco_py/generated/_pyxbld_2.0.2.5_38_linuxcpuextensionbuilder/temp.linux-x86_64-cpython-38/home/mila/f/faisal.mohamed\n",
      "creating /home/mila/f/faisal.mohamed/.conda/envs/diffuser/lib/python3.8/site-packages/mujoco_py/generated/_pyxbld_2.0.2.5_38_linuxcpuextensionbuilder/temp.linux-x86_64-cpython-38/home/mila/f/faisal.mohamed/.conda\n",
      "creating /home/mila/f/faisal.mohamed/.conda/envs/diffuser/lib/python3.8/site-packages/mujoco_py/generated/_pyxbld_2.0.2.5_38_linuxcpuextensionbuilder/temp.linux-x86_64-cpython-38/home/mila/f/faisal.mohamed/.conda/envs\n",
      "creating /home/mila/f/faisal.mohamed/.conda/envs/diffuser/lib/python3.8/site-packages/mujoco_py/generated/_pyxbld_2.0.2.5_38_linuxcpuextensionbuilder/temp.linux-x86_64-cpython-38/home/mila/f/faisal.mohamed/.conda/envs/diffuser\n",
      "creating /home/mila/f/faisal.mohamed/.conda/envs/diffuser/lib/python3.8/site-packages/mujoco_py/generated/_pyxbld_2.0.2.5_38_linuxcpuextensionbuilder/temp.linux-x86_64-cpython-38/home/mila/f/faisal.mohamed/.conda/envs/diffuser/lib\n",
      "creating /home/mila/f/faisal.mohamed/.conda/envs/diffuser/lib/python3.8/site-packages/mujoco_py/generated/_pyxbld_2.0.2.5_38_linuxcpuextensionbuilder/temp.linux-x86_64-cpython-38/home/mila/f/faisal.mohamed/.conda/envs/diffuser/lib/python3.8\n",
      "creating /home/mila/f/faisal.mohamed/.conda/envs/diffuser/lib/python3.8/site-packages/mujoco_py/generated/_pyxbld_2.0.2.5_38_linuxcpuextensionbuilder/temp.linux-x86_64-cpython-38/home/mila/f/faisal.mohamed/.conda/envs/diffuser/lib/python3.8/site-packages\n",
      "creating /home/mila/f/faisal.mohamed/.conda/envs/diffuser/lib/python3.8/site-packages/mujoco_py/generated/_pyxbld_2.0.2.5_38_linuxcpuextensionbuilder/temp.linux-x86_64-cpython-38/home/mila/f/faisal.mohamed/.conda/envs/diffuser/lib/python3.8/site-packages/mujoco_py\n",
      "creating /home/mila/f/faisal.mohamed/.conda/envs/diffuser/lib/python3.8/site-packages/mujoco_py/generated/_pyxbld_2.0.2.5_38_linuxcpuextensionbuilder/temp.linux-x86_64-cpython-38/home/mila/f/faisal.mohamed/.conda/envs/diffuser/lib/python3.8/site-packages/mujoco_py/gl\n",
      "gcc -pthread -B /home/mila/f/faisal.mohamed/.conda/envs/diffuser/compiler_compat -Wno-unused-result -Wsign-compare -DNDEBUG -fwrapv -O2 -Wall -fPIC -O2 -isystem /home/mila/f/faisal.mohamed/.conda/envs/diffuser/include -fPIC -O2 -isystem /home/mila/f/faisal.mohamed/.conda/envs/diffuser/include -fPIC -I/home/mila/f/faisal.mohamed/.conda/envs/diffuser/lib/python3.8/site-packages/mujoco_py -I/home/mila/f/faisal.mohamed/.mujoco/mujoco200/include -I/home/mila/f/faisal.mohamed/.conda/envs/diffuser/lib/python3.8/site-packages/numpy/core/include -I/home/mila/f/faisal.mohamed/.conda/envs/diffuser/include/python3.8 -c /home/mila/f/faisal.mohamed/.conda/envs/diffuser/lib/python3.8/site-packages/mujoco_py/cymj.c -o /home/mila/f/faisal.mohamed/.conda/envs/diffuser/lib/python3.8/site-packages/mujoco_py/generated/_pyxbld_2.0.2.5_38_linuxcpuextensionbuilder/temp.linux-x86_64-cpython-38/home/mila/f/faisal.mohamed/.conda/envs/diffuser/lib/python3.8/site-packages/mujoco_py/cymj.o -fopenmp -w\n"
     ]
    }
   ],
   "source": [
    "import torch\n",
    "import tqdm\n",
    "import numpy as np\n",
    "# import gym\n",
    "import d4rl"
   ]
  },
  {
   "cell_type": "code",
   "execution_count": 4,
   "metadata": {},
   "outputs": [],
   "source": []
  },
  {
   "cell_type": "code",
   "execution_count": 2,
   "metadata": {},
   "outputs": [
    {
     "ename": "UnregisteredEnv",
     "evalue": "No registered env with id: hopper-medium-v2",
     "output_type": "error",
     "traceback": [
      "\u001b[0;31m---------------------------------------------------------------------------\u001b[0m",
      "\u001b[0;31mKeyError\u001b[0m                                  Traceback (most recent call last)",
      "File \u001b[0;32m~/.conda/envs/diffuser/lib/python3.8/site-packages/gym/envs/registration.py:121\u001b[0m, in \u001b[0;36mEnvRegistry.spec\u001b[0;34m(self, path)\u001b[0m\n\u001b[1;32m    120\u001b[0m \u001b[38;5;28;01mtry\u001b[39;00m:\n\u001b[0;32m--> 121\u001b[0m     \u001b[38;5;28;01mreturn\u001b[39;00m \u001b[38;5;28;43mself\u001b[39;49m\u001b[38;5;241;43m.\u001b[39;49m\u001b[43menv_specs\u001b[49m\u001b[43m[\u001b[49m\u001b[38;5;28;43mid\u001b[39;49m\u001b[43m]\u001b[49m\n\u001b[1;32m    122\u001b[0m \u001b[38;5;28;01mexcept\u001b[39;00m \u001b[38;5;167;01mKeyError\u001b[39;00m:\n\u001b[1;32m    123\u001b[0m     \u001b[38;5;66;03m# Parse the env name and check to see if it matches the non-version\u001b[39;00m\n\u001b[1;32m    124\u001b[0m     \u001b[38;5;66;03m# part of a valid env (could also check the exact number here)\u001b[39;00m\n",
      "\u001b[0;31mKeyError\u001b[0m: 'hopper-medium-v2'",
      "\nDuring handling of the above exception, another exception occurred:\n",
      "\u001b[0;31mUnregisteredEnv\u001b[0m                           Traceback (most recent call last)",
      "Input \u001b[0;32mIn [2]\u001b[0m, in \u001b[0;36m<cell line: 2>\u001b[0;34m()\u001b[0m\n\u001b[1;32m      1\u001b[0m env_name \u001b[38;5;241m=\u001b[39m \u001b[38;5;124m\"\u001b[39m\u001b[38;5;124mhopper-medium-v2\u001b[39m\u001b[38;5;124m\"\u001b[39m\n\u001b[0;32m----> 2\u001b[0m env \u001b[38;5;241m=\u001b[39m \u001b[43mgym\u001b[49m\u001b[38;5;241;43m.\u001b[39;49m\u001b[43mmake\u001b[49m\u001b[43m(\u001b[49m\u001b[43menv_name\u001b[49m\u001b[43m)\u001b[49m\n\u001b[1;32m      3\u001b[0m data \u001b[38;5;241m=\u001b[39m env\u001b[38;5;241m.\u001b[39mget_dataset() \u001b[38;5;66;03m# dataset is only used for normalization in this colab\u001b[39;00m\n",
      "File \u001b[0;32m~/.conda/envs/diffuser/lib/python3.8/site-packages/gym/envs/registration.py:145\u001b[0m, in \u001b[0;36mmake\u001b[0;34m(id, **kwargs)\u001b[0m\n\u001b[1;32m    144\u001b[0m \u001b[38;5;28;01mdef\u001b[39;00m \u001b[38;5;21mmake\u001b[39m(\u001b[38;5;28mid\u001b[39m, \u001b[38;5;241m*\u001b[39m\u001b[38;5;241m*\u001b[39mkwargs):\n\u001b[0;32m--> 145\u001b[0m     \u001b[38;5;28;01mreturn\u001b[39;00m \u001b[43mregistry\u001b[49m\u001b[38;5;241;43m.\u001b[39;49m\u001b[43mmake\u001b[49m\u001b[43m(\u001b[49m\u001b[38;5;28;43mid\u001b[39;49m\u001b[43m,\u001b[49m\u001b[43m \u001b[49m\u001b[38;5;241;43m*\u001b[39;49m\u001b[38;5;241;43m*\u001b[39;49m\u001b[43mkwargs\u001b[49m\u001b[43m)\u001b[49m\n",
      "File \u001b[0;32m~/.conda/envs/diffuser/lib/python3.8/site-packages/gym/envs/registration.py:89\u001b[0m, in \u001b[0;36mEnvRegistry.make\u001b[0;34m(self, path, **kwargs)\u001b[0m\n\u001b[1;32m     87\u001b[0m \u001b[38;5;28;01melse\u001b[39;00m:\n\u001b[1;32m     88\u001b[0m     logger\u001b[38;5;241m.\u001b[39minfo(\u001b[38;5;124m'\u001b[39m\u001b[38;5;124mMaking new env: \u001b[39m\u001b[38;5;132;01m%s\u001b[39;00m\u001b[38;5;124m'\u001b[39m, path)\n\u001b[0;32m---> 89\u001b[0m spec \u001b[38;5;241m=\u001b[39m \u001b[38;5;28;43mself\u001b[39;49m\u001b[38;5;241;43m.\u001b[39;49m\u001b[43mspec\u001b[49m\u001b[43m(\u001b[49m\u001b[43mpath\u001b[49m\u001b[43m)\u001b[49m\n\u001b[1;32m     90\u001b[0m env \u001b[38;5;241m=\u001b[39m spec\u001b[38;5;241m.\u001b[39mmake(\u001b[38;5;241m*\u001b[39m\u001b[38;5;241m*\u001b[39mkwargs)\n\u001b[1;32m     91\u001b[0m \u001b[38;5;66;03m# We used to have people override _reset/_step rather than\u001b[39;00m\n\u001b[1;32m     92\u001b[0m \u001b[38;5;66;03m# reset/step. Set _gym_disable_underscore_compat = True on\u001b[39;00m\n\u001b[1;32m     93\u001b[0m \u001b[38;5;66;03m# your environment if you use these methods and don't want\u001b[39;00m\n\u001b[1;32m     94\u001b[0m \u001b[38;5;66;03m# compatibility code to be invoked.\u001b[39;00m\n",
      "File \u001b[0;32m~/.conda/envs/diffuser/lib/python3.8/site-packages/gym/envs/registration.py:131\u001b[0m, in \u001b[0;36mEnvRegistry.spec\u001b[0;34m(self, path)\u001b[0m\n\u001b[1;32m    129\u001b[0m     \u001b[38;5;28;01mraise\u001b[39;00m error\u001b[38;5;241m.\u001b[39mDeprecatedEnv(\u001b[38;5;124m'\u001b[39m\u001b[38;5;124mEnv \u001b[39m\u001b[38;5;132;01m{}\u001b[39;00m\u001b[38;5;124m not found (valid versions include \u001b[39m\u001b[38;5;132;01m{}\u001b[39;00m\u001b[38;5;124m)\u001b[39m\u001b[38;5;124m'\u001b[39m\u001b[38;5;241m.\u001b[39mformat(\u001b[38;5;28mid\u001b[39m, matching_envs))\n\u001b[1;32m    130\u001b[0m \u001b[38;5;28;01melse\u001b[39;00m:\n\u001b[0;32m--> 131\u001b[0m     \u001b[38;5;28;01mraise\u001b[39;00m error\u001b[38;5;241m.\u001b[39mUnregisteredEnv(\u001b[38;5;124m'\u001b[39m\u001b[38;5;124mNo registered env with id: \u001b[39m\u001b[38;5;132;01m{}\u001b[39;00m\u001b[38;5;124m'\u001b[39m\u001b[38;5;241m.\u001b[39mformat(\u001b[38;5;28mid\u001b[39m))\n",
      "\u001b[0;31mUnregisteredEnv\u001b[0m: No registered env with id: hopper-medium-v2"
     ]
    }
   ],
   "source": [
    "env_name = \"hopper-medium-v2\"\n",
    "env = gym.make(env_name)\n",
    "data = env.get_dataset() # dataset is only used for normalization in this colab"
   ]
  },
  {
   "cell_type": "code",
   "execution_count": null,
   "metadata": {},
   "outputs": [],
   "source": []
  }
 ],
 "metadata": {
  "kernelspec": {
   "display_name": "diffuser",
   "language": "python",
   "name": "python3"
  },
  "language_info": {
   "codemirror_mode": {
    "name": "ipython",
    "version": 3
   },
   "file_extension": ".py",
   "mimetype": "text/x-python",
   "name": "python",
   "nbconvert_exporter": "python",
   "pygments_lexer": "ipython3",
   "version": "3.8.20"
  }
 },
 "nbformat": 4,
 "nbformat_minor": 2
}
